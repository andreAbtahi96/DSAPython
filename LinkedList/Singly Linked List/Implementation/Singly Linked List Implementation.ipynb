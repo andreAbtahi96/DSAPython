{
 "cells": [
  {
   "cell_type": "code",
   "execution_count": 1,
   "id": "94d5ede5",
   "metadata": {},
   "outputs": [],
   "source": [
    "# create node class\n",
    "class Node:\n",
    "    \n",
    "    # constructor\n",
    "    def __init__(self, value):\n",
    "        self.value = value\n",
    "        self.next = None\n",
    "    \n",
    "    def getValue(self):\n",
    "        return self.value\n",
    "    \n",
    "    def setValue(self,value):\n",
    "        self.value = value"
   ]
  },
  {
   "cell_type": "code",
   "execution_count": 2,
   "id": "cc07906f",
   "metadata": {},
   "outputs": [],
   "source": [
    "# SLL class\n",
    "class SinglyLinkedList:\n",
    "    \n",
    "    # construct head to None and size to 0\n",
    "    def __init__(self):\n",
    "        self.head = None\n",
    "        self.size = 0\n",
    "        \n",
    "    def insertNodeAtTail(self, value):\n",
    "        # 1. create node\n",
    "        tempNode = Node(value)\n",
    "        \n",
    "        # edge case, if no node have head point to new node\n",
    "        if self.size == 0:\n",
    "            self.head = tempNode\n",
    "            self.size += 1\n",
    "            return\n",
    "        \n",
    "        # 2. set and link hop until we find a node whose next is None.\n",
    "        currentPtr = self.head\n",
    "        \n",
    "        # once loop breaks, we have reached last node\n",
    "        while currentPtr.next:\n",
    "            currentPtr = currentPtr.next\n",
    "        \n",
    "        # 3. set current node's next to new node\n",
    "        currentPtr.next = tempNode\n",
    "        \n",
    "        # 4. set (new) last node->next to None\n",
    "        tempNode.next = None\n",
    "        \n",
    "        # update size of list\n",
    "        self.size += 1\n",
    "        \n",
    "    def insertNodeAtHead(self, value):\n",
    "        # 1. create new node \n",
    "        tempNode = Node(value)\n",
    "        \n",
    "        # 2. set new node next to current head\n",
    "        tempNode.next = self.head\n",
    "        \n",
    "        # 3. set head node to new node\n",
    "        self.head = tempNode\n",
    "        \n",
    "        # update size of list\n",
    "        self.size += 1\n",
    "        \n",
    "    def deleteNodeByValue(self, value):\n",
    "        # 1. init temp var and prev\n",
    "        tempNode = self.head\n",
    "        \n",
    "        # edge case: if none\n",
    "        if self.size == 0:\n",
    "            return \n",
    "        \n",
    "        \n",
    "        # edge case: if size is 1 and head is value:\n",
    "        if self.size == 1 and self.head.value == value:\n",
    "            self.head = None\n",
    "            self.size -= 1\n",
    "            return\n",
    "        \n",
    "        # edge case: if head is value\n",
    "        if self.head.value == value:\n",
    "            self.head = self.head.next\n",
    "            self.size -= 1\n",
    "            return\n",
    "            \n",
    "        # edge case: if head is node to delete and size more then one \n",
    "#         if self.size >= 2 and self.head.value == value:\n",
    "#             self.head = self.head.next\n",
    "#             self.size -= 1\n",
    "        \n",
    "        \n",
    "        # 2. while not not, check if matches value\n",
    "        while tempNode is not None:\n",
    "            \n",
    "            # 3. if match found isolate node. wire previous node to tempNode next.\n",
    "            if tempNode.value == value:\n",
    "                prev.next = tempNode.next\n",
    "                tempNode.next = None\n",
    "                self.size -= 1\n",
    "                return\n",
    "            \n",
    "            # updating for loop conditional\n",
    "            prev = tempNode\n",
    "            tempNode = tempNode.next\n",
    "            \n",
    "        # becareful: if node is not found just return\n",
    "        return\n",
    "                \n",
    "        \n",
    "    # print list\n",
    "    def printLinkedList(self):\n",
    "        \n",
    "        # init temp ptr\n",
    "        currentPtr = self.head\n",
    "        \n",
    "        # while currentPtr exist keep hoppin\n",
    "        while currentPtr is not None:\n",
    "            print(currentPtr.value)\n",
    "            currentPtr = currentPtr.next\n",
    "        "
   ]
  },
  {
   "cell_type": "code",
   "execution_count": 3,
   "id": "4a400378",
   "metadata": {},
   "outputs": [],
   "source": [
    "# build a linked list brute\n",
    "a = Node(1)\n",
    "b = Node(2)\n",
    "c = Node(3)"
   ]
  },
  {
   "cell_type": "code",
   "execution_count": 4,
   "id": "34b1421a",
   "metadata": {},
   "outputs": [],
   "source": [
    "a.next = b"
   ]
  },
  {
   "cell_type": "code",
   "execution_count": 5,
   "id": "504ebd0f",
   "metadata": {},
   "outputs": [],
   "source": [
    "b.next = c"
   ]
  },
  {
   "cell_type": "code",
   "execution_count": 6,
   "id": "7e20e9fc",
   "metadata": {},
   "outputs": [],
   "source": [
    "c.next = None"
   ]
  },
  {
   "cell_type": "markdown",
   "id": "b3bc6d60",
   "metadata": {},
   "source": [
    "## Pros of SLL\n",
    "- constant time O(1) insertions and deletions in any position\n",
    "    - in comparison arrays require O(n) time to do the same thing\n",
    "- dynamic expansion! no need to set the size prior"
   ]
  },
  {
   "cell_type": "markdown",
   "id": "d75ca884",
   "metadata": {},
   "source": [
    "## Cons of SLL\n",
    "- Accessing an element in LL takes O(k) time to go from head to kth element\n",
    "    - while arrays have constant O(1) time to access elements in an array"
   ]
  },
  {
   "cell_type": "code",
   "execution_count": 7,
   "id": "885d2e04",
   "metadata": {},
   "outputs": [],
   "source": [
    "# instantiate single linked list\n",
    "sll = SinglyLinkedList()"
   ]
  },
  {
   "cell_type": "code",
   "execution_count": 8,
   "id": "1cc36963",
   "metadata": {},
   "outputs": [],
   "source": [
    "# insert a few nodes\n",
    "sll.insertNodeAtTail(1)\n",
    "sll.insertNodeAtTail(2)\n",
    "sll.insertNodeAtTail(3)\n",
    "sll.insertNodeAtTail(4)\n",
    "sll.insertNodeAtTail(5)\n",
    "sll.insertNodeAtTail(6)\n",
    "sll.insertNodeAtTail(7)"
   ]
  },
  {
   "cell_type": "code",
   "execution_count": 9,
   "id": "9c7b43c7",
   "metadata": {},
   "outputs": [
    {
     "data": {
      "text/plain": [
       "7"
      ]
     },
     "execution_count": 9,
     "metadata": {},
     "output_type": "execute_result"
    }
   ],
   "source": [
    "# check size of sll\n",
    "sll.size"
   ]
  },
  {
   "cell_type": "markdown",
   "id": "05f66053",
   "metadata": {},
   "source": [
    "## Lets add a print function to see what our full SLL"
   ]
  },
  {
   "cell_type": "code",
   "execution_count": 10,
   "id": "b674527c",
   "metadata": {},
   "outputs": [
    {
     "name": "stdout",
     "output_type": "stream",
     "text": [
      "1\n",
      "2\n",
      "3\n",
      "4\n",
      "5\n",
      "6\n",
      "7\n"
     ]
    }
   ],
   "source": [
    "sll.printLinkedList()"
   ]
  },
  {
   "cell_type": "markdown",
   "id": "243018d3",
   "metadata": {},
   "source": [
    "## Lets add to the front of the SLL"
   ]
  },
  {
   "cell_type": "code",
   "execution_count": 11,
   "id": "e13af758",
   "metadata": {},
   "outputs": [],
   "source": [
    "sll.insertNodeAtHead(0)"
   ]
  },
  {
   "cell_type": "code",
   "execution_count": 12,
   "id": "0d216083",
   "metadata": {},
   "outputs": [
    {
     "name": "stdout",
     "output_type": "stream",
     "text": [
      "0\n",
      "1\n",
      "2\n",
      "3\n",
      "4\n",
      "5\n",
      "6\n",
      "7\n"
     ]
    }
   ],
   "source": [
    "sll.printLinkedList()"
   ]
  },
  {
   "cell_type": "code",
   "execution_count": 13,
   "id": "8a5e46b2",
   "metadata": {},
   "outputs": [],
   "source": [
    "sll.insertNodeAtHead(-1)"
   ]
  },
  {
   "cell_type": "code",
   "execution_count": 14,
   "id": "2523744c",
   "metadata": {},
   "outputs": [
    {
     "name": "stdout",
     "output_type": "stream",
     "text": [
      "-1\n",
      "0\n",
      "1\n",
      "2\n",
      "3\n",
      "4\n",
      "5\n",
      "6\n",
      "7\n"
     ]
    }
   ],
   "source": [
    "sll.printLinkedList()"
   ]
  },
  {
   "cell_type": "code",
   "execution_count": 15,
   "id": "6a1821c5",
   "metadata": {},
   "outputs": [
    {
     "data": {
      "text/plain": [
       "9"
      ]
     },
     "execution_count": 15,
     "metadata": {},
     "output_type": "execute_result"
    }
   ],
   "source": [
    "sll.size"
   ]
  },
  {
   "cell_type": "markdown",
   "id": "e23b43e9",
   "metadata": {},
   "source": [
    "## deleting a node matching value"
   ]
  },
  {
   "cell_type": "code",
   "execution_count": 28,
   "id": "eec633a0",
   "metadata": {},
   "outputs": [],
   "source": [
    "# insert a few nodes\n",
    "sll.insertNodeAtTail(1)\n",
    "sll.insertNodeAtTail(2)\n",
    "sll.insertNodeAtTail(3)\n",
    "sll.insertNodeAtTail(4)\n",
    "sll.insertNodeAtTail(5)\n",
    "sll.insertNodeAtTail(6)\n",
    "sll.insertNodeAtTail(7)"
   ]
  },
  {
   "cell_type": "code",
   "execution_count": 29,
   "id": "c9c05c67",
   "metadata": {},
   "outputs": [
    {
     "name": "stdout",
     "output_type": "stream",
     "text": [
      "1\n",
      "2\n",
      "3\n",
      "4\n",
      "5\n",
      "6\n",
      "7\n"
     ]
    }
   ],
   "source": [
    "sll.printLinkedList()"
   ]
  },
  {
   "cell_type": "code",
   "execution_count": 30,
   "id": "8afd3316",
   "metadata": {},
   "outputs": [
    {
     "name": "stdout",
     "output_type": "stream",
     "text": [
      "1\n",
      "2\n",
      "3\n",
      "5\n",
      "6\n",
      "7\n"
     ]
    }
   ],
   "source": [
    "sll.deleteNodeByValue(4)\n",
    "sll.printLinkedList()"
   ]
  }
 ],
 "metadata": {
  "kernelspec": {
   "display_name": "Python 3",
   "language": "python",
   "name": "python3"
  },
  "language_info": {
   "codemirror_mode": {
    "name": "ipython",
    "version": 3
   },
   "file_extension": ".py",
   "mimetype": "text/x-python",
   "name": "python",
   "nbconvert_exporter": "python",
   "pygments_lexer": "ipython3",
   "version": "3.6.15"
  }
 },
 "nbformat": 4,
 "nbformat_minor": 5
}
