{
 "cells": [
  {
   "cell_type": "markdown",
   "metadata": {},
   "source": [
    "# Implement a Doubly Linked List\n",
    "\n",
    "For this interview problem, implement a node class and show how it can be used to create a doubly linked list."
   ]
  },
  {
   "cell_type": "code",
   "execution_count": 3,
   "metadata": {
    "collapsed": true
   },
   "outputs": [],
   "source": [
    "class Node(object):\n",
    "    \n",
    "    \n",
    "    # constructor\n",
    "    def __init__(self, value):\n",
    "        self.value = value\n",
    "        self.next = None\n",
    "        self.prev = None\n",
    "    \n",
    "    \n",
    "    "
   ]
  },
  {
   "cell_type": "code",
   "execution_count": null,
   "metadata": {},
   "outputs": [],
   "source": [
    "class DoublyLinkedList(object):\n",
    "    def __init__(self):\n",
    "        self.head = None\n",
    "        self.size = 0\n",
    "        self.tail = None\n",
    "        \n",
    "    \"\"\"\n",
    "    insert node at the front of the linked list\n",
    "    \"\"\"  \n",
    "    def insert(self, value):\n",
    "        \n",
    "        # instantiate node class\n",
    "        node = Node(value)\n",
    "        \n",
    "        # if size is zero link first node\n",
    "        if self.size == 0:\n",
    "            \n",
    "            # attatch head and tail to node increment size\n",
    "            self.head = node\n",
    "            self.tail = node\n",
    "            self.size += 1\n",
    "            \n",
    "        else:\n",
    "            node.prev = self.tail\n",
    "            self.tail.next = node # at this point we are wired between\n",
    "            self.tail = self.tail.next  # set tail\n",
    "            self.size += 1\n",
    "\n",
    "    \"\"\"\n",
    "    print the linked list\n",
    "    \"\"\"    \n",
    "    def printList(self):\n",
    "        curr = self.head\n",
    "        while(curr):\n",
    "            print(curr.value)\n",
    "            curr = curr.next\n",
    "            "
   ]
  },
  {
   "cell_type": "markdown",
   "metadata": {},
   "source": [
    "# Test Your Solution\n",
    "Note that there is no test for this solution (because it would give away the answer structure).\n",
    "\n",
    "Check out the Implement a Linked List Solution Notebook for the answer to this interview problem, as well as the answer for the implementation of a singly linked list."
   ]
  }
 ],
 "metadata": {
  "kernelspec": {
   "display_name": "Python 3",
   "language": "python",
   "name": "python3"
  },
  "language_info": {
   "codemirror_mode": {
    "name": "ipython",
    "version": 3
   },
   "file_extension": ".py",
   "mimetype": "text/x-python",
   "name": "python",
   "nbconvert_exporter": "python",
   "pygments_lexer": "ipython3",
   "version": "3.7.3"
  }
 },
 "nbformat": 4,
 "nbformat_minor": 1
}
