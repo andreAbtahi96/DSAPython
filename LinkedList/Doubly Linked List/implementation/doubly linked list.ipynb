{
 "cells": [
  {
   "cell_type": "markdown",
   "metadata": {},
   "source": [
    "# Creating Node\n"
   ]
  },
  {
   "cell_type": "code",
   "execution_count": 15,
   "metadata": {},
   "outputs": [],
   "source": [
    "class Node:\n",
    "    def __init__(self,value):\n",
    "        self.value = value\n",
    "        self.next = None\n",
    "        self.prev = None\n",
    "        "
   ]
  },
  {
   "cell_type": "markdown",
   "metadata": {},
   "source": [
    "# Creating Doubly Linked List Class\n",
    "\n"
   ]
  },
  {
   "cell_type": "code",
   "execution_count": 16,
   "metadata": {},
   "outputs": [],
   "source": [
    "class DoublyLinkedList(object):\n",
    "    def __init__(self):\n",
    "        self.head = None\n",
    "        self.size = 0\n",
    "        self.tail = None\n",
    "        \n",
    "    \"\"\"\n",
    "    insert node at the front of the linked list\n",
    "    \"\"\"  \n",
    "    def insert(self, value):\n",
    "        \n",
    "        # instantiate node class\n",
    "        node = Node(value)\n",
    "        \n",
    "        # if size is zero link first node\n",
    "        if self.size == 0:\n",
    "            \n",
    "            # attatch head and tail to node increment size\n",
    "            self.head = node\n",
    "            self.tail = node\n",
    "            self.size += 1\n",
    "            \n",
    "        else:\n",
    "            node.prev = self.tail\n",
    "            self.tail.next = node # at this point we are wired between\n",
    "            self.tail = self.tail.next  # set tail\n",
    "            self.size += 1\n",
    "\n",
    "    \"\"\"\n",
    "    print the linked list\n",
    "    \"\"\"    \n",
    "    def printList(self):\n",
    "        curr = self.head\n",
    "        while(curr):\n",
    "            print(curr.value)\n",
    "            curr = curr.next\n",
    "            "
   ]
  },
  {
   "cell_type": "code",
   "execution_count": 17,
   "metadata": {},
   "outputs": [
    {
     "name": "stdout",
     "output_type": "stream",
     "text": [
      "1\n",
      "2\n",
      "3\n",
      "4\n",
      "5\n",
      "1\n",
      "5\n"
     ]
    }
   ],
   "source": [
    "dll = DoublyLinkedList()\n",
    "\n",
    "dll.insert(1)\n",
    "dll.insert(2)\n",
    "dll.insert(3)\n",
    "dll.insert(4)\n",
    "dll.insert(5)\n",
    "dll.printList()\n",
    "\n",
    "# testing head and tail\n",
    "print(dll.head.value)\n",
    "print(dll.tail.value)\n"
   ]
  }
 ],
 "metadata": {
  "interpreter": {
   "hash": "31f2aee4e71d21fbe5cf8b01ff0e069b9275f58929596ceb00d14d90e3e16cd6"
  },
  "kernelspec": {
   "display_name": "Python 3.8.9 64-bit",
   "language": "python",
   "name": "python3"
  },
  "language_info": {
   "codemirror_mode": {
    "name": "ipython",
    "version": 3
   },
   "file_extension": ".py",
   "mimetype": "text/x-python",
   "name": "python",
   "nbconvert_exporter": "python",
   "pygments_lexer": "ipython3",
   "version": "3.8.9"
  },
  "orig_nbformat": 4
 },
 "nbformat": 4,
 "nbformat_minor": 2
}
